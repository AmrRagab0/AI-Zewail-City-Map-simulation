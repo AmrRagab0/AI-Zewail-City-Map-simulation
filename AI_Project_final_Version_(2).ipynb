{
  "nbformat": 4,
  "nbformat_minor": 0,
  "metadata": {
    "colab": {
      "provenance": [],
      "include_colab_link": true
    },
    "kernelspec": {
      "name": "python3",
      "display_name": "Python 3"
    },
    "language_info": {
      "name": "python"
    }
  },
  "cells": [
    {
      "cell_type": "markdown",
      "metadata": {
        "id": "view-in-github",
        "colab_type": "text"
      },
      "source": [
        "<a href=\"https://colab.research.google.com/github/AmrRagab0/AI-Zewail-City-Map-simulation/blob/master/AI_Project_final_Version_(2).ipynb\" target=\"_parent\"><img src=\"https://colab.research.google.com/assets/colab-badge.svg\" alt=\"Open In Colab\"/></a>"
      ]
    },
    {
      "cell_type": "code",
      "execution_count": null,
      "metadata": {
        "id": "NO33ZRe3202e"
      },
      "outputs": [],
      "source": [
        "import math"
      ]
    },
    {
      "cell_type": "markdown",
      "source": [
        "### The nodes (building - road)"
      ],
      "metadata": {
        "id": "hAY6uLswXQWq"
      }
    },
    {
      "cell_type": "code",
      "source": [
        "class block():\n",
        "  child = None\n",
        "  parent = None\n",
        "  cost = None\n",
        "  action = None\n",
        "\n",
        "class building(block):\n",
        "  Type = 'building'\n",
        "  def __init__(self,name,rooms,h):\n",
        "    self.name = name\n",
        "    self.rooms =rooms\n",
        "    self.h =h\n",
        "\n",
        "\n",
        "class road(block):\n",
        "  Type = 'road'\n",
        "  def __init__(self,length,name = 'road' ,h=0):\n",
        "    self.length = length\n",
        "    self.name = name\n",
        "    self.h = h  # =0 by default ,no need to assign zero\n",
        "\n"
      ],
      "metadata": {
        "id": "zqXj2RXb46qk"
      },
      "execution_count": null,
      "outputs": []
    },
    {
      "cell_type": "markdown",
      "source": [
        "### Complete ZC Map"
      ],
      "metadata": {
        "id": "pOEZ4qOLXYIW"
      }
    },
    {
      "cell_type": "code",
      "source": [
        "\n",
        "\n",
        "# all buidings\n",
        "Dorms = building('Dorms',['room 207','room 401'],0)\n",
        "Service = building('service',['room f13','room g16','room g17','room g18','ATM machine'],0)\n",
        "Nano = building('Nano',['room s13','room s28','room s32','room f25','Wireless lab','Cleen room'],0)\n",
        "Helmy = building('Helmy',['bio lab','chemistry lab','room s08'],0)\n",
        "Complex = building('Complex',[\"Dean's office, Graduation Hall,IT office\"],0)\n",
        "GateA = building('Gate A',['security office','Rest room'],0)\n",
        "Academic = building('Academic',['room G19','room G20','room G21','Biology lab'],0)\n",
        "OneStopShop = building('OneStopShop',['room G10','room G11','room G12','Computer lab','Admission office'],0)\n",
        "\n",
        "\n",
        "# suggested format for roads : r_2letters of one building_2 letters of other building\n",
        "r_GA_CO = road(10,'GA_CO')\n",
        "r_AC_CO = road(3,'AC_CO')\n",
        "r_AC_DO = road(20,'AC_DO')\n",
        "\n",
        "r_DO_SE= road(17,'DO_SE')\n",
        "r_DO_NA= road(9,'DO_NA')\n",
        "r_NA_ON= road(13,\"NA_ON\")\n",
        "road2= road(2,\"road2\")\n",
        "road3= road(6,\"road3\")\n",
        "road6= road(7,\"road6\")\n",
        "road7= road(43,\"road7\")\n",
        "road8= road(3,\"road8\")\n",
        "road9= road(9,\"road9\")\n",
        "\n"
      ],
      "metadata": {
        "id": "umzzP4Elzl3A"
      },
      "execution_count": null,
      "outputs": []
    },
    {
      "cell_type": "code",
      "source": [
        "r_DO_SE.Type"
      ],
      "metadata": {
        "colab": {
          "base_uri": "https://localhost:8080/",
          "height": 35
        },
        "id": "FReQDCOTCJa1",
        "outputId": "0d1f8721-3aef-4215-823c-bbb70b8e3048"
      },
      "execution_count": null,
      "outputs": [
        {
          "output_type": "execute_result",
          "data": {
            "text/plain": [
              "'road'"
            ],
            "application/vnd.google.colaboratory.intrinsic+json": {
              "type": "string"
            }
          },
          "metadata": {},
          "execution_count": 4
        }
      ]
    },
    {
      "cell_type": "code",
      "source": [
        "class ZC_problem:\n",
        "  # Complete Map\n",
        "  ZC = [ [Dorms  ,                   r_DO_SE  ,             Service],\n",
        "       [r_DO_NA,                     road2 ,                road3  ],\n",
        "       [Nano,                        Academic  ,     \t      Helmy],\n",
        "       [r_NA_ON,                     Complex ,              road7],\n",
        "       [OneStopShop,                 r_GA_CO ,              road6],\n",
        "       [road9  ,   \t\t\t             GateA,                 road8]]\n",
        "\n",
        "  def __init__(self,init_state,goal_state):\n",
        "\n",
        "    self.init_state = self.find(init_state)\n",
        "    self.goal_state = self.find(goal_state)\n",
        "\n",
        "\n",
        "\n",
        "\n",
        "  def actions(self,state):\n",
        "    # get possible actions\n",
        "\n",
        "    r,c = state[0],state[1]\n",
        "    possible_moves = []\n",
        "    try:\n",
        "      if self.ZC[r+1][c]:\n",
        "        possible_moves.append('down')\n",
        "    except :\n",
        "      pass\n",
        "    try:\n",
        "      if r-1 >=0:\n",
        "        possible_moves.append('up')\n",
        "    except :\n",
        "      pass\n",
        "    try:\n",
        "      if self.ZC[r][c+1]:\n",
        "        possible_moves.append('right')\n",
        "    except :\n",
        "      pass\n",
        "    try:\n",
        "      if c-1 >= 0:\n",
        "        possible_moves.append('left')\n",
        "    except :\n",
        "      pass\n",
        "    return possible_moves\n",
        "\n",
        "  def result(self,state,action):\n",
        "    # returns next state based on action\n",
        "    r,c = state[0],state[1]\n",
        "    if action == 'up':\n",
        "      new_state = (r-1,c)\n",
        "    if action == 'down':\n",
        "      new_state = (r+1,c)\n",
        "    if action == 'right':\n",
        "      new_state = (r,c+1)\n",
        "    if action == 'left':\n",
        "      new_state = (r,c-1)\n",
        "    return new_state\n",
        "\n",
        "\n",
        "  def get_child(self,parent,action):\n",
        "    child = self.result(parent,action)\n",
        "    r,c = child\n",
        "    parent_node= self.ZC[parent[0]][parent[1]]\n",
        "    (self.ZC[r][c]).parent = parent_node\n",
        "    #print(type(parent))\n",
        "    parent_node.child = self.ZC[r][c]\n",
        "    print(f'parent : {parent_node}')\n",
        "    parent_node.action = action\n",
        "    print(f'action : {action}')\n",
        "    return r,c\n",
        "\n",
        "\n",
        "\n",
        "  def found_room(self,state,room):   # tested and working\n",
        "    # checks the current state and sees if the room needed is in that state, if found return true\n",
        "    room = room.lower() #lower case to avoid mismatches\n",
        "    state_rooms = map(lambda x : x.lower(), state.rooms)\n",
        "    if room in state_rooms :\n",
        "      return True\n",
        "    else :\n",
        "      return False\n",
        "\n",
        "  def find(self,name):\n",
        "    # finds the node index\n",
        "    # given a name of a building or a road, it returns its index in the map\n",
        "    name = name.lower()\n",
        "    for i in range(len(self.ZC)):\n",
        "      for j in range(len(self.ZC[0])):\n",
        "        if (self.ZC[i][j]).Type == \"road\":\n",
        "          continue\n",
        "        if name == (self.ZC[i][j].name).lower():\n",
        "          return i,j\n",
        "        if name in (self.ZC[i][j]).rooms:\n",
        "          return i,j\n",
        "\n",
        "\n",
        "\n",
        "  def generate_h(self, init_state, goal_state):\n",
        "    # according to goal and current state, generate heuristic for each cell\n",
        "    x2,y2 = goal_state[0],goal_state[1]\n",
        "    for i in range(len(self.ZC)):\n",
        "      for j in range(len(self.ZC[i])):\n",
        "        x1,y1 = i,j\n",
        "        new_h=round(math.sqrt(((x1-x2)**2)+((y1-y2)**2)),2) # Manhattan distance equation\n",
        "        #print(f'new h : {new_h}')\n",
        "        self.ZC[i][j].h = new_h\n",
        "\n",
        "  def goal_test(self, state):\n",
        "    # returns true if we are in the right building\n",
        "    # or if we are in the right room inside a building\n",
        "    return (state == self.goal_state) #or (self.found_room(state))\n",
        "\n",
        "\n",
        "  def calculate_cost(self,init):\n",
        "    # not sure if we need that function\n",
        "    var=0\n",
        "\n",
        "\n",
        "  def heuristic(self,state):\n",
        "    # just returns the heuristic parameter for each node\n",
        "    return state.h\n",
        "\n",
        "\n",
        "  def solution(self,node):\n",
        "    '''A method to extract the sequence of actions representing the solution from the goal node.'''\n",
        "    actions = []\n",
        "    #cost = node.path_cost\n",
        "    while node.parent is not None:\n",
        "        print('current node',node)\n",
        "        actions.append(node.action)\n",
        "        node = node.parent\n",
        "    actions.reverse()\n",
        "    return actions\n",
        "\n",
        "  def cumulativeCost(self, state):\n",
        "    CCost = 0\n",
        "    ''' it checks if the node is a road type then it add its length to the total cost the algorith will move to the next state unitl it reaches the goal state\n",
        "    it takes a each state in the path and the algorithm call the function at each node it reaches\n",
        "    '''\n",
        "    if state.Type == 'road':\n",
        "      CCost = CCost + state.length\n",
        "    return CCost"
      ],
      "metadata": {
        "id": "YJbmCZWxmriv"
      },
      "execution_count": null,
      "outputs": []
    },
    {
      "cell_type": "markdown",
      "source": [
        "### Visualizer"
      ],
      "metadata": {
        "id": "fBg6ifHBXz5M"
      }
    },
    {
      "cell_type": "code",
      "metadata": {
        "id": "oqXF0mgGHIr5"
      },
      "source": [
        "from shutil import get_terminal_size\n",
        "terminal_width, _ = get_terminal_size()\n",
        "\n",
        "_visualizers = {}\n",
        "\n",
        "def _default_visualizer(_, state):\n",
        "    '''Generic visualizer for unknown problems.'''\n",
        "    print(state)\n",
        "\n",
        "class Visualizer:\n",
        "    '''Visualization and printing functionality encapsulation.'''\n",
        "\n",
        "    def __init__(self, problem):\n",
        "        '''Constructor with the problem to visualize.'''\n",
        "        self.problem = problem\n",
        "        self.counter = 0\n",
        "\n",
        "    def visualize(self, frontier):\n",
        "        '''Visualizes the frontier at every step.'''\n",
        "        self.counter += 1\n",
        "        print(f'Frontier at step {self.counter}')\n",
        "        for state in frontier:\n",
        "            print()\n",
        "            _visualizers.get(type(self.problem), _default_visualizer)(self.problem, state)\n",
        "        print('-' * terminal_width)"
      ],
      "execution_count": null,
      "outputs": []
    },
    {
      "cell_type": "code",
      "source": [
        "from collections import deque"
      ],
      "metadata": {
        "id": "NUVdyjwmoroR"
      },
      "execution_count": null,
      "outputs": []
    },
    {
      "cell_type": "markdown",
      "source": [
        "## BFS"
      ],
      "metadata": {
        "id": "5rcoyo9BZMGE"
      }
    },
    {
      "cell_type": "code",
      "source": [
        "from collections import deque\n",
        "stations = []\n",
        "stations_indecies = []\n",
        "def bfs_graph(problem, verbose=False):\n",
        "    '''Breadth-first graph search implementation.'''\n",
        "    #explored = []\n",
        "\n",
        "    #print(\"problem.init_state\",problem.init_state)\n",
        "\n",
        "\n",
        "\n",
        "\n",
        "\n",
        "    if problem.goal_test(problem.init_state):\n",
        "      return problem.solution(problem.init_state)\n",
        "\n",
        "    frontier = deque()\n",
        "    frontier.append(tuple(problem.init_state))\n",
        "\n",
        "\n",
        "    #print(problem.init_state)\n",
        "    #explored.append(problem.init_state)\n",
        "    explored = {problem.init_state}\n",
        "    #added:\n",
        "\n",
        "\n",
        "    #\n",
        "    #frontier = deque(tuple([(problem.init_state)]))\n",
        "    #print(\"frontier\",frontier)\n",
        "    #explored = {problem.init_state}\n",
        "    if verbose: visualizer = Visualizer(problem)\n",
        "\n",
        "    while frontier:\n",
        "\n",
        "      if verbose: visualizer.visualize(frontier)\n",
        "      node = frontier.pop()\n",
        "      print(\"now we are at\",problem.ZC[node[0]][node[1]].name)\n",
        "      stations.append(problem.ZC[node[0]][node[1]].name)\n",
        "      stations_indecies.append(tuple(node))\n",
        "      #print('I am here:',node)\n",
        "      for action in problem.actions(node):\n",
        "          child = problem.result(node, action)\n",
        "          problem.ZC[node[0]][node[1]].child = problem.ZC[child[0]][child[1]]\n",
        "          problem.ZC[child[0]][child[1]].parent = problem.ZC[node[0]][node[1]]\n",
        "          print('child is', child)\n",
        "          if child not in explored:\n",
        "            if problem.goal_test(child):\n",
        "\n",
        "              print(\"now we are at\",problem.ZC[child[0]][child[1]].name)\n",
        "              stations.append(problem.ZC[child[0]][child[1]].name)\n",
        "              stations_indecies.append(tuple(node))\n",
        "              print()\n",
        "              return\n",
        "              return problem.solution(child)\n",
        "            frontier.appendleft(child)\n",
        "            explored.add(child)"
      ],
      "metadata": {
        "id": "HiYhuXeyZMeu"
      },
      "execution_count": null,
      "outputs": []
    },
    {
      "cell_type": "code",
      "source": [
        "init_state = 'Dorms'\n",
        "goal_state = \"Gate A\"\n",
        "test = ZC_problem(init_state, goal_state)"
      ],
      "metadata": {
        "id": "kr3z-AyaZcqn"
      },
      "execution_count": null,
      "outputs": []
    },
    {
      "cell_type": "code",
      "source": [
        "bfs_graph(test, verbose=True)"
      ],
      "metadata": {
        "colab": {
          "base_uri": "https://localhost:8080/"
        },
        "id": "_R55UncnZcW7",
        "outputId": "8ee27d8a-143c-4f0d-eeb8-2112d36fa89d"
      },
      "execution_count": null,
      "outputs": [
        {
          "output_type": "stream",
          "name": "stdout",
          "text": [
            "Frontier at step 1\n",
            "\n",
            "(0, 0)\n",
            "--------------------------------------------------------------------------------\n",
            "now we are at Dorms\n",
            "child is (1, 0)\n",
            "child is (0, 1)\n",
            "Frontier at step 2\n",
            "\n",
            "(0, 1)\n",
            "\n",
            "(1, 0)\n",
            "--------------------------------------------------------------------------------\n",
            "now we are at DO_NA\n",
            "child is (2, 0)\n",
            "child is (0, 0)\n",
            "child is (1, 1)\n",
            "Frontier at step 3\n",
            "\n",
            "(1, 1)\n",
            "\n",
            "(2, 0)\n",
            "\n",
            "(0, 1)\n",
            "--------------------------------------------------------------------------------\n",
            "now we are at DO_SE\n",
            "child is (1, 1)\n",
            "child is (0, 2)\n",
            "child is (0, 0)\n",
            "Frontier at step 4\n",
            "\n",
            "(0, 2)\n",
            "\n",
            "(1, 1)\n",
            "\n",
            "(2, 0)\n",
            "--------------------------------------------------------------------------------\n",
            "now we are at Nano\n",
            "child is (3, 0)\n",
            "child is (1, 0)\n",
            "child is (2, 1)\n",
            "Frontier at step 5\n",
            "\n",
            "(2, 1)\n",
            "\n",
            "(3, 0)\n",
            "\n",
            "(0, 2)\n",
            "\n",
            "(1, 1)\n",
            "--------------------------------------------------------------------------------\n",
            "now we are at road2\n",
            "child is (2, 1)\n",
            "child is (0, 1)\n",
            "child is (1, 2)\n",
            "child is (1, 0)\n",
            "Frontier at step 6\n",
            "\n",
            "(1, 2)\n",
            "\n",
            "(2, 1)\n",
            "\n",
            "(3, 0)\n",
            "\n",
            "(0, 2)\n",
            "--------------------------------------------------------------------------------\n",
            "now we are at service\n",
            "child is (1, 2)\n",
            "child is (0, 1)\n",
            "Frontier at step 7\n",
            "\n",
            "(1, 2)\n",
            "\n",
            "(2, 1)\n",
            "\n",
            "(3, 0)\n",
            "--------------------------------------------------------------------------------\n",
            "now we are at NA_ON\n",
            "child is (4, 0)\n",
            "child is (2, 0)\n",
            "child is (3, 1)\n",
            "Frontier at step 8\n",
            "\n",
            "(3, 1)\n",
            "\n",
            "(4, 0)\n",
            "\n",
            "(1, 2)\n",
            "\n",
            "(2, 1)\n",
            "--------------------------------------------------------------------------------\n",
            "now we are at Academic\n",
            "child is (3, 1)\n",
            "child is (1, 1)\n",
            "child is (2, 2)\n",
            "child is (2, 0)\n",
            "Frontier at step 9\n",
            "\n",
            "(2, 2)\n",
            "\n",
            "(3, 1)\n",
            "\n",
            "(4, 0)\n",
            "\n",
            "(1, 2)\n",
            "--------------------------------------------------------------------------------\n",
            "now we are at road3\n",
            "child is (2, 2)\n",
            "child is (0, 2)\n",
            "child is (1, 1)\n",
            "Frontier at step 10\n",
            "\n",
            "(2, 2)\n",
            "\n",
            "(3, 1)\n",
            "\n",
            "(4, 0)\n",
            "--------------------------------------------------------------------------------\n",
            "now we are at OneStopShop\n",
            "child is (5, 0)\n",
            "child is (3, 0)\n",
            "child is (4, 1)\n",
            "Frontier at step 11\n",
            "\n",
            "(4, 1)\n",
            "\n",
            "(5, 0)\n",
            "\n",
            "(2, 2)\n",
            "\n",
            "(3, 1)\n",
            "--------------------------------------------------------------------------------\n",
            "now we are at Complex\n",
            "child is (4, 1)\n",
            "child is (2, 1)\n",
            "child is (3, 2)\n",
            "child is (3, 0)\n",
            "Frontier at step 12\n",
            "\n",
            "(3, 2)\n",
            "\n",
            "(4, 1)\n",
            "\n",
            "(5, 0)\n",
            "\n",
            "(2, 2)\n",
            "--------------------------------------------------------------------------------\n",
            "now we are at Helmy\n",
            "child is (3, 2)\n",
            "child is (1, 2)\n",
            "child is (2, 1)\n",
            "Frontier at step 13\n",
            "\n",
            "(3, 2)\n",
            "\n",
            "(4, 1)\n",
            "\n",
            "(5, 0)\n",
            "--------------------------------------------------------------------------------\n",
            "now we are at road9\n",
            "child is (4, 0)\n",
            "child is (5, 1)\n",
            "now we are at Gate A\n",
            "\n"
          ]
        }
      ]
    },
    {
      "cell_type": "code",
      "source": [
        "for i in range(len(stations)):\n",
        "  print('the current state is:', stations[i])"
      ],
      "metadata": {
        "colab": {
          "base_uri": "https://localhost:8080/"
        },
        "id": "SI5idcamZk0m",
        "outputId": "690230f2-af7f-4b1e-990b-5cc295546940"
      },
      "execution_count": null,
      "outputs": [
        {
          "output_type": "stream",
          "name": "stdout",
          "text": [
            "the current state is: Dorms\n",
            "the current state is: DO_NA\n",
            "the current state is: DO_SE\n",
            "the current state is: Nano\n",
            "the current state is: road2\n",
            "the current state is: service\n",
            "the current state is: NA_ON\n",
            "the current state is: Academic\n",
            "the current state is: road3\n",
            "the current state is: OneStopShop\n",
            "the current state is: Complex\n",
            "the current state is: Helmy\n",
            "the current state is: road9\n",
            "the current state is: Gate A\n"
          ]
        }
      ]
    },
    {
      "cell_type": "code",
      "source": [
        "stations_indecies"
      ],
      "metadata": {
        "colab": {
          "base_uri": "https://localhost:8080/"
        },
        "id": "T6Re5_d2Da3M",
        "outputId": "0d223f66-9342-4893-8bb0-751b92553ff9"
      },
      "execution_count": null,
      "outputs": [
        {
          "output_type": "execute_result",
          "data": {
            "text/plain": [
              "[(0, 0),\n",
              " (1, 0),\n",
              " (0, 1),\n",
              " (2, 0),\n",
              " (1, 1),\n",
              " (0, 2),\n",
              " (3, 0),\n",
              " (2, 1),\n",
              " (1, 2),\n",
              " (4, 0),\n",
              " (3, 1),\n",
              " (2, 2),\n",
              " (5, 0),\n",
              " (5, 0)]"
            ]
          },
          "metadata": {},
          "execution_count": 12
        }
      ]
    },
    {
      "cell_type": "code",
      "source": [
        "def path_actions(path):\n",
        "  actions_steps = []\n",
        "  for i in range(len(path)):\n",
        "    if i == len(path)-1:\n",
        "      break\n",
        "    else:\n",
        "      #if path[i][0] == path[i+1][0]:\n",
        "        if path[i][1] < path[i+1][1]:\n",
        "          actions_steps.append('right')\n",
        "        else:\n",
        "          actions_steps.append('left')\n",
        "      #if path[i][1] == path[i+1][1]:\n",
        "        if path[i][0] < path[i+1][0]:\n",
        "          actions_steps.append('down')\n",
        "        else:\n",
        "          actions_steps.append('up')\n",
        "  return actions_steps"
      ],
      "metadata": {
        "id": "_oXptsulHXaw"
      },
      "execution_count": null,
      "outputs": []
    },
    {
      "cell_type": "code",
      "source": [
        "path_actions(stations_indecies)"
      ],
      "metadata": {
        "colab": {
          "base_uri": "https://localhost:8080/"
        },
        "id": "M34pM4ifIMOH",
        "outputId": "4978d34e-5f28-428b-df6d-76ca89606777"
      },
      "execution_count": null,
      "outputs": [
        {
          "output_type": "execute_result",
          "data": {
            "text/plain": [
              "['left',\n",
              " 'down',\n",
              " 'right',\n",
              " 'up',\n",
              " 'left',\n",
              " 'down',\n",
              " 'right',\n",
              " 'up',\n",
              " 'right',\n",
              " 'up',\n",
              " 'left',\n",
              " 'down',\n",
              " 'right',\n",
              " 'up',\n",
              " 'right',\n",
              " 'up',\n",
              " 'left',\n",
              " 'down',\n",
              " 'right',\n",
              " 'up',\n",
              " 'right',\n",
              " 'up',\n",
              " 'left',\n",
              " 'down',\n",
              " 'left',\n",
              " 'up']"
            ]
          },
          "metadata": {},
          "execution_count": 14
        }
      ]
    },
    {
      "cell_type": "markdown",
      "source": [
        "## DFS"
      ],
      "metadata": {
        "id": "OtDYZ8hEphd2"
      }
    },
    {
      "cell_type": "code",
      "source": [
        "def DFS(problem, verbose=False):\n",
        "    '''Depth-first graph search implementation.'''\n",
        "    if problem.goal_test(problem.init_state): return problem.solution(problem.init_state)\n",
        "    frontier = deque()\n",
        "    frontier.append(tuple(problem.init_state))\n",
        "    explored = {problem.init_state}\n",
        "    #if verbose: visualizer = Visualizer(problem)\n",
        "    while frontier:\n",
        "      #if verbose: visualizer.visualize(frontier)\n",
        "      node = frontier.popleft()\n",
        "      print(\"now we are at\",problem.ZC[node[0]][node[1]].name)\n",
        "      for action in problem.actions(node):\n",
        "        child = problem.result(node, action)\n",
        "        problem.ZC[node[0]][node[1]].child = problem.ZC[child[0]][child[1]]\n",
        "        problem.ZC[child[0]][child[1]].parent = problem.ZC[node[0]][node[1]]\n",
        "        #print(explored)\n",
        "        if child not in explored:\n",
        "          if problem.goal_test(child):\n",
        "              print('Now we reached ',problem.ZC[child[0]][child[1]].name)\n",
        "              return\n",
        "              #return problem.solution(problem.ZC[child[0]][child[1]])\n",
        "          frontier.appendleft(child)\n",
        "          #print('child before adding',child)\n",
        "          explored.add(child)"
      ],
      "metadata": {
        "id": "6g335TItf3zj"
      },
      "execution_count": null,
      "outputs": []
    },
    {
      "cell_type": "code",
      "source": [
        "init_state = 'Dorms'\n",
        "goal_state = \"Gate A\"\n",
        "\n",
        "first_try = ZC_problem(init_state,goal_state)\n",
        "%prun DFS(first_try)"
      ],
      "metadata": {
        "colab": {
          "base_uri": "https://localhost:8080/"
        },
        "id": "ygwKo9KNckUp",
        "outputId": "714d57c4-d979-42fb-a952-0343fb68da1d"
      },
      "execution_count": null,
      "outputs": [
        {
          "output_type": "stream",
          "name": "stdout",
          "text": [
            "now we are at Dorms\n",
            "now we are at DO_SE\n",
            "now we are at service\n",
            "now we are at road3\n",
            "now we are at Helmy\n",
            "now we are at Academic\n",
            "now we are at Nano\n",
            "now we are at NA_ON\n",
            "now we are at OneStopShop\n",
            "now we are at GA_CO\n",
            "Now we reached  Gate A\n",
            " "
          ]
        }
      ]
    },
    {
      "cell_type": "markdown",
      "source": [
        "## IDS"
      ],
      "metadata": {
        "id": "gkltct1h0XmF"
      }
    },
    {
      "cell_type": "code",
      "source": [
        "def DLS(problem, limit):\n",
        "    '''Depth-limited graph search imCCostplementation.'''\n",
        "    if problem.goal_test(problem.init_state): return problem.solution(problem.init_state)\n",
        "    frontier = deque()\n",
        "    frontier.append(tuple(problem.init_state))\n",
        "    explored = {problem.init_state}\n",
        "    while frontier:\n",
        "      node = frontier.popleft()\n",
        "      print(\"now we are at\",problem.ZC[node[0]][node[1]].name)\n",
        "      for action in problem.actions(node):\n",
        "        child = problem.result(node, action)\n",
        "        problem.ZC[node[0]][node[1]].child = problem.ZC[child[0]][child[1]]\n",
        "        problem.ZC[child[0]][child[1]].parent = problem.ZC[node[0]][node[1]]\n",
        "        #print(explored)\n",
        "        if child not in explored:\n",
        "          if problem.goal_test(child):\n",
        "              print('Now we reached ',problem.ZC[child[0]][child[1]].name)\n",
        "              return problem.ZC[child[0]][child[1]].name\n",
        "          if len(frontier) < limit:\n",
        "              #return problem.solution(problem.ZC[child[0]][child[1]])\n",
        "            frontier.appendleft(child)\n",
        "          #print('child before adding',child)\n",
        "            explored.add(child)"
      ],
      "metadata": {
        "id": "xd2VdgiDrhXN"
      },
      "execution_count": null,
      "outputs": []
    },
    {
      "cell_type": "code",
      "source": [
        "    frontier = deque()\n",
        "    frontier.append(tuple([1,2]))\n",
        "    while frontier:\n",
        "      node = frontier.popleft()\n",
        "    print(node)"
      ],
      "metadata": {
        "colab": {
          "base_uri": "https://localhost:8080/"
        },
        "id": "qh5XcTdGdTcs",
        "outputId": "add9d825-43c0-46a8-bdcb-a663f12676c8"
      },
      "execution_count": null,
      "outputs": [
        {
          "output_type": "stream",
          "name": "stdout",
          "text": [
            "(1, 2)\n"
          ]
        }
      ]
    },
    {
      "cell_type": "code",
      "source": [
        "import sys\n",
        "def ids(problem):\n",
        "    for depth in range(1,sys.maxsize):\n",
        "        result = DLS(problem, depth)\n",
        "        if result != None:\n",
        "            return result"
      ],
      "metadata": {
        "id": "Er-bJLOTgoOt"
      },
      "execution_count": null,
      "outputs": []
    },
    {
      "cell_type": "code",
      "source": [
        "init_state = 'room 207'\n",
        "goal_state = 'security office'\n",
        "\n",
        "first_try = ZC_problem(init_state,goal_state)\n",
        "%prun ids(first_try)"
      ],
      "metadata": {
        "colab": {
          "base_uri": "https://localhost:8080/"
        },
        "id": "5rIXmqVmZo-z",
        "outputId": "5d66c741-7a44-4b26-859f-1affb2068dd0"
      },
      "execution_count": null,
      "outputs": [
        {
          "output_type": "stream",
          "name": "stdout",
          "text": [
            "now we are at Dorms\n",
            "now we are at DO_NA\n",
            "now we are at Nano\n",
            "now we are at NA_ON\n",
            "now we are at OneStopShop\n",
            "now we are at road9\n",
            "Now we reached  Gate A\n",
            " "
          ]
        }
      ]
    },
    {
      "cell_type": "markdown",
      "source": [
        "## Greedy"
      ],
      "metadata": {
        "id": "KxByi_CpA-kv"
      }
    },
    {
      "cell_type": "code",
      "source": [
        "from heapq import heappush, heappop\n",
        "from itertools import count\n",
        "counter = count()\n",
        "path=[]\n",
        "def greedy_best_first(problem, verbose=False):\n",
        "    '''Greedy best-first search implementation.'''\n",
        "    problem.generate_h(problem.init_state,problem.goal_state)\n",
        "    i,j = problem.init_state[0],problem.init_state[1]\n",
        "    #frontier = deque()\n",
        "    #frontier.append(tuple(problem.init_state))\n",
        "    frontier = [(None, None, (problem.init_state))]\n",
        "    explored = set()\n",
        "    if verbose: visualizer = Visualizer(problem)\n",
        "    while frontier:\n",
        "        if verbose: visualizer.visualize(frontier)\n",
        "        #print('the smallest:  ',heappop(frontier)[2])\n",
        "        #print('FF     ', frontier[0])\n",
        "        _, _, node = heappop(frontier)\n",
        "\n",
        "        print('I am at       ',problem.ZC[node[0]][node[1]].name)\n",
        "        path.append(node)\n",
        "        if node in explored: continue\n",
        "        if problem.goal_test(node):\n",
        "            #break\n",
        "            #print('gf')\n",
        "            return\n",
        "        explored.add(node)\n",
        "        print('node:     ', node[0],',',node[1])\n",
        "        #(ZC_problem[node[0]][node[1]]).h\n",
        "        for action in problem.actions((node)):\n",
        "          #problem.actions((i,j))\n",
        "          #\n",
        "            child = problem.result(node, action)\n",
        "\n",
        "            if child not in explored:\n",
        "                k, l = child[0], child[1]\n",
        "                new_state = problem.ZC[k][l]\n",
        "                print('POSSIBLE NODE is  ', new_state.name)\n",
        "                new_value = problem.heuristic(new_state)\n",
        "                heappush(frontier, (new_value, next(counter), child))"
      ],
      "metadata": {
        "id": "quwqO2xwKbse"
      },
      "execution_count": null,
      "outputs": []
    },
    {
      "cell_type": "code",
      "source": [
        "\n",
        "init_state = 'room 207'\n",
        "goal_state = 'security office'\n",
        "\n",
        "first_try = ZC_problem(init_state,goal_state)\n",
        "%prun greedy_best_first(first_try)"
      ],
      "metadata": {
        "colab": {
          "base_uri": "https://localhost:8080/"
        },
        "id": "9nCmSiCpLVWu",
        "outputId": "a25f4aa9-1cf6-4c1f-dbd6-d0638fc7ab52"
      },
      "execution_count": null,
      "outputs": [
        {
          "output_type": "stream",
          "name": "stdout",
          "text": [
            "I am at        Dorms\n",
            "node:      0 , 0\n",
            "POSSIBLE NODE is   DO_NA\n",
            "POSSIBLE NODE is   DO_SE\n",
            "I am at        DO_NA\n",
            "node:      1 , 0\n",
            "POSSIBLE NODE is   Nano\n",
            "POSSIBLE NODE is   road2\n",
            "I am at        Nano\n",
            "node:      2 , 0\n",
            "POSSIBLE NODE is   NA_ON\n",
            "POSSIBLE NODE is   Academic\n",
            "I am at        NA_ON\n",
            "node:      3 , 0\n",
            "POSSIBLE NODE is   OneStopShop\n",
            "POSSIBLE NODE is   Complex\n",
            "I am at        OneStopShop\n",
            "node:      4 , 0\n",
            "POSSIBLE NODE is   road9\n",
            "POSSIBLE NODE is   GA_CO\n",
            "I am at        road9\n",
            "node:      5 , 0\n",
            "POSSIBLE NODE is   Gate A\n",
            "I am at        Gate A\n",
            " "
          ]
        }
      ]
    },
    {
      "cell_type": "code",
      "source": [
        "%prun greedy_best_first(first_try, verbose=True)"
      ],
      "metadata": {
        "colab": {
          "base_uri": "https://localhost:8080/"
        },
        "id": "j0srBz5DWyXU",
        "outputId": "75f86a9e-6107-4422-92dd-f9850f748b76"
      },
      "execution_count": null,
      "outputs": [
        {
          "output_type": "stream",
          "name": "stdout",
          "text": [
            "Frontier at step 1\n",
            "\n",
            "(None, None, (0, 0))\n",
            "--------------------------------------------------------------------------------\n",
            "I am at        Dorms\n",
            "node:      0 , 0\n",
            "POSSIBLE NODE is   DO_NA\n",
            "POSSIBLE NODE is   DO_SE\n",
            "Frontier at step 2\n",
            "\n",
            "(4.12, 11, (1, 0))\n",
            "\n",
            "(5.0, 12, (0, 1))\n",
            "--------------------------------------------------------------------------------\n",
            "I am at        DO_NA\n",
            "node:      1 , 0\n",
            "POSSIBLE NODE is   Nano\n",
            "POSSIBLE NODE is   road2\n",
            "Frontier at step 3\n",
            "\n",
            "(3.16, 13, (2, 0))\n",
            "\n",
            "(5.0, 12, (0, 1))\n",
            "\n",
            "(4.0, 14, (1, 1))\n",
            "--------------------------------------------------------------------------------\n",
            "I am at        Nano\n",
            "node:      2 , 0\n",
            "POSSIBLE NODE is   NA_ON\n",
            "POSSIBLE NODE is   Academic\n",
            "Frontier at step 4\n",
            "\n",
            "(2.24, 15, (3, 0))\n",
            "\n",
            "(3.0, 16, (2, 1))\n",
            "\n",
            "(4.0, 14, (1, 1))\n",
            "\n",
            "(5.0, 12, (0, 1))\n",
            "--------------------------------------------------------------------------------\n",
            "I am at        NA_ON\n",
            "node:      3 , 0\n",
            "POSSIBLE NODE is   OneStopShop\n",
            "POSSIBLE NODE is   Complex\n",
            "Frontier at step 5\n",
            "\n",
            "(1.41, 17, (4, 0))\n",
            "\n",
            "(2.0, 18, (3, 1))\n",
            "\n",
            "(4.0, 14, (1, 1))\n",
            "\n",
            "(5.0, 12, (0, 1))\n",
            "\n",
            "(3.0, 16, (2, 1))\n",
            "--------------------------------------------------------------------------------\n",
            "I am at        OneStopShop\n",
            "node:      4 , 0\n",
            "POSSIBLE NODE is   road9\n",
            "POSSIBLE NODE is   GA_CO\n",
            "Frontier at step 6\n",
            "\n",
            "(1.0, 19, (5, 0))\n",
            "\n",
            "(2.0, 18, (3, 1))\n",
            "\n",
            "(1.0, 20, (4, 1))\n",
            "\n",
            "(5.0, 12, (0, 1))\n",
            "\n",
            "(3.0, 16, (2, 1))\n",
            "\n",
            "(4.0, 14, (1, 1))\n",
            "--------------------------------------------------------------------------------\n",
            "I am at        road9\n",
            "node:      5 , 0\n",
            "POSSIBLE NODE is   Gate A\n",
            "Frontier at step 7\n",
            "\n",
            "(0.0, 21, (5, 1))\n",
            "\n",
            "(2.0, 18, (3, 1))\n",
            "\n",
            "(1.0, 20, (4, 1))\n",
            "\n",
            "(5.0, 12, (0, 1))\n",
            "\n",
            "(3.0, 16, (2, 1))\n",
            "\n",
            "(4.0, 14, (1, 1))\n",
            "--------------------------------------------------------------------------------\n",
            "I am at        Gate A\n",
            " "
          ]
        }
      ]
    },
    {
      "cell_type": "code",
      "source": [
        "path"
      ],
      "metadata": {
        "colab": {
          "base_uri": "https://localhost:8080/"
        },
        "id": "kp8AUhcoXHof",
        "outputId": "92523dba-104a-486a-ebad-5b079e6d3efa"
      },
      "execution_count": null,
      "outputs": [
        {
          "output_type": "execute_result",
          "data": {
            "text/plain": [
              "[(0, 0),\n",
              " (1, 0),\n",
              " (2, 0),\n",
              " (3, 0),\n",
              " (4, 0),\n",
              " (5, 0),\n",
              " (5, 1),\n",
              " (0, 0),\n",
              " (1, 0),\n",
              " (2, 0),\n",
              " (3, 0),\n",
              " (4, 0),\n",
              " (5, 0),\n",
              " (5, 1)]"
            ]
          },
          "metadata": {},
          "execution_count": 24
        }
      ]
    },
    {
      "cell_type": "code",
      "source": [
        "def find_path_steps(path):\n",
        "  actions_steps = []\n",
        "  for i in range(len(path)):\n",
        "    if i == len(path)-1:\n",
        "      break\n",
        "    else:\n",
        "      if path[i][0] == path[i+1][0]:\n",
        "        if path[i][1] < path[i+1][1]:\n",
        "          actions_steps.append('right')\n",
        "        else:\n",
        "          actions_steps.append('left')\n",
        "      if path[i][1] == path[i+1][1]:\n",
        "        if path[i][0] < path[i+1][0]:\n",
        "          actions_steps.append('down')\n",
        "        else:\n",
        "          actions_steps.append('up')\n",
        "  return actions_steps"
      ],
      "metadata": {
        "id": "2ZNMsW6VYAYi"
      },
      "execution_count": null,
      "outputs": []
    },
    {
      "cell_type": "code",
      "source": [
        "find_path_steps(path)"
      ],
      "metadata": {
        "colab": {
          "base_uri": "https://localhost:8080/"
        },
        "id": "ff6mBL67X_Bs",
        "outputId": "eae47875-bb33-4581-ef6c-b7e7f25d73fd"
      },
      "execution_count": null,
      "outputs": [
        {
          "output_type": "execute_result",
          "data": {
            "text/plain": [
              "['down',\n",
              " 'down',\n",
              " 'down',\n",
              " 'down',\n",
              " 'down',\n",
              " 'right',\n",
              " 'down',\n",
              " 'down',\n",
              " 'down',\n",
              " 'down',\n",
              " 'down',\n",
              " 'right']"
            ]
          },
          "metadata": {},
          "execution_count": 26
        }
      ]
    },
    {
      "cell_type": "markdown",
      "source": [
        "## A*"
      ],
      "metadata": {
        "id": "u_XnTFfBYDhj"
      }
    },
    {
      "cell_type": "code",
      "source": [
        "path2=[]\n",
        "def A_star(problem, verbose=False):\n",
        "    '''A-star search implementation.'''\n",
        "    problem.generate_h(problem.init_state,problem.goal_state)\n",
        "    i,j = problem.init_state[0],problem.init_state[1]\n",
        "\n",
        "    frontier = [(None, None, problem.init_state)]\n",
        "    explored = set()\n",
        "    while frontier:\n",
        "        #node = frontier.popleft()\n",
        "        _, _, node = heappop(frontier)\n",
        "        print('I am at       ',problem.ZC[node[0]][node[1]].name)\n",
        "        path2.append(node)\n",
        "        if node in explored: continue\n",
        "        if problem.goal_test(node):\n",
        "            return\n",
        "        explored.add(node)\n",
        "        for action in problem.actions(node):\n",
        "           child = problem.result(node, action)\n",
        "           problem.ZC[node[0]][node[1]].child = problem.ZC[child[0]][child[1]]\n",
        "           problem.ZC[child[0]][child[1]].parent = problem.ZC[node[0]][node[1]]\n",
        "           if child not in explored:\n",
        "             k, l = child[0], child[1]\n",
        "             new_state = problem.ZC[k][l]\n",
        "             print('Next is  ', new_state.name)\n",
        "             path_cost=10\n",
        "             new_value = problem.heuristic(new_state)\n",
        "             heappush(frontier, (path_cost+new_value, next(counter), child))"
      ],
      "metadata": {
        "id": "miNM-UZ-BCeR"
      },
      "execution_count": null,
      "outputs": []
    },
    {
      "cell_type": "code",
      "source": [
        "init_state = 'room 207'\n",
        "goal_state = 'security office'\n",
        "\n",
        "first_try = ZC_problem(init_state,goal_state)\n",
        "%prun A_star(first_try)"
      ],
      "metadata": {
        "colab": {
          "base_uri": "https://localhost:8080/"
        },
        "id": "_X8dYdXhDqWE",
        "outputId": "1c443fd4-527a-46de-a59f-0c0f00c49366"
      },
      "execution_count": null,
      "outputs": [
        {
          "output_type": "stream",
          "name": "stdout",
          "text": [
            "I am at        Dorms\n",
            "Next is   DO_NA\n",
            "Next is   DO_SE\n",
            "I am at        DO_NA\n",
            "Next is   Nano\n",
            "Next is   road2\n",
            "I am at        Nano\n",
            "Next is   NA_ON\n",
            "Next is   Academic\n",
            "I am at        NA_ON\n",
            "Next is   OneStopShop\n",
            "Next is   Complex\n",
            "I am at        OneStopShop\n",
            "Next is   road9\n",
            "Next is   GA_CO\n",
            "I am at        road9\n",
            "Next is   Gate A\n",
            "I am at        Gate A\n",
            " "
          ]
        }
      ]
    },
    {
      "cell_type": "code",
      "source": [
        "path2"
      ],
      "metadata": {
        "colab": {
          "base_uri": "https://localhost:8080/"
        },
        "id": "2GxbNt4UYuJ3",
        "outputId": "0ead3d9d-a764-4d64-b559-4b108a07b6b7"
      },
      "execution_count": null,
      "outputs": [
        {
          "output_type": "execute_result",
          "data": {
            "text/plain": [
              "[(0, 0), (1, 0), (2, 0), (3, 0), (4, 0), (5, 0), (5, 1)]"
            ]
          },
          "metadata": {},
          "execution_count": 29
        }
      ]
    },
    {
      "cell_type": "code",
      "source": [
        "find_path_steps(path2)"
      ],
      "metadata": {
        "colab": {
          "base_uri": "https://localhost:8080/"
        },
        "id": "IBMojrvSY5Dx",
        "outputId": "a164083c-922c-43f3-e1dd-ef8f11a960fd"
      },
      "execution_count": null,
      "outputs": [
        {
          "output_type": "execute_result",
          "data": {
            "text/plain": [
              "['down', 'down', 'down', 'down', 'down', 'right']"
            ]
          },
          "metadata": {},
          "execution_count": 30
        }
      ]
    },
    {
      "cell_type": "markdown",
      "source": [
        "## Hill Climbing"
      ],
      "metadata": {
        "id": "ZORTvxIsYEal"
      }
    },
    {
      "cell_type": "code",
      "source": [
        "def hill_climbing(problem, verbose=True):\n",
        "    '''Hill climbing search implementation.'''\n",
        "    problem.generate_h(problem.init_state,problem.goal_state)\n",
        "\n",
        "    i,j = problem.init_state[0],problem.init_state[1]\n",
        "    current_state = problem.ZC[i][j]\n",
        "    #print(current_state)\n",
        "    current_value = problem.heuristic(current_state)\n",
        "    if verbose: visualizer = Visualizer(problem)\n",
        "    while True:\n",
        "      if verbose: visualizer.visualize([current_state.name])\n",
        "      next_state, next_value = None, None\n",
        "      for action in problem.actions((i,j)):\n",
        "        #print(f'action: {action}')\n",
        "        k,l = problem.result((i,j), action)\n",
        "        #print('??',k,l)\n",
        "        new_state = problem.ZC[k][l]\n",
        "        new_value = problem.heuristic(new_state)\n",
        "        #print(f'next value : {new_value}')\n",
        "        #print(f'current value:{current_value}')\n",
        "        if next_value is None or next_value > new_value:\n",
        "          next_state, next_value = new_state, new_value\n",
        "          new_i,new_j = k,l\n",
        "          best_action = action\n",
        "      if current_value <= next_value: return current_state\n",
        "      #print('now next value became : ',next_value)\n",
        "      current_state, current_value = next_state, next_value\n",
        "      i,j = new_i,new_j\n",
        "      #print(\"Now i'm at\",i,j)\n",
        ""
      ],
      "metadata": {
        "id": "zU1elPRz2_xf"
      },
      "execution_count": null,
      "outputs": []
    },
    {
      "cell_type": "markdown",
      "source": [
        "### Testing Hill climbing"
      ],
      "metadata": {
        "id": "_8jJbPwcYRO-"
      }
    },
    {
      "cell_type": "code",
      "source": [
        "init_state = ('room 207')\n",
        "goal_state = ('security office')\n",
        "\n",
        "ZC_try2 = ZC_problem(init_state,goal_state)\n",
        "\n",
        "%prun hill_climbing(ZC_try2)"
      ],
      "metadata": {
        "colab": {
          "base_uri": "https://localhost:8080/"
        },
        "id": "55BG_j4H4RG1",
        "outputId": "72eedef7-f13b-409f-8753-b6a611bd0e25"
      },
      "execution_count": null,
      "outputs": [
        {
          "output_type": "stream",
          "name": "stdout",
          "text": [
            "Frontier at step 1\n",
            "\n",
            "Dorms\n",
            "--------------------------------------------------------------------------------\n",
            "Frontier at step 2\n",
            "\n",
            "DO_NA\n",
            "--------------------------------------------------------------------------------\n",
            "Frontier at step 3\n",
            "\n",
            "Nano\n",
            "--------------------------------------------------------------------------------\n",
            "Frontier at step 4\n",
            "\n",
            "NA_ON\n",
            "--------------------------------------------------------------------------------\n",
            "Frontier at step 5\n",
            "\n",
            "OneStopShop\n",
            "--------------------------------------------------------------------------------\n",
            "Frontier at step 6\n",
            "\n",
            "road9\n",
            "--------------------------------------------------------------------------------\n",
            "Frontier at step 7\n",
            "\n",
            "Gate A\n",
            "--------------------------------------------------------------------------------\n",
            " "
          ]
        }
      ]
    },
    {
      "cell_type": "markdown",
      "source": [
        "## Simulated Annealing"
      ],
      "metadata": {
        "id": "OUJq67y7YVeo"
      }
    },
    {
      "cell_type": "code",
      "metadata": {
        "id": "T1rp_jcTkeje"
      },
      "source": [
        "from random import choice, random\n",
        "from math import exp\n",
        "from itertools import count\n",
        "\n",
        "def simulated_annealing(problem, schedule, verbose=False):\n",
        "  problem.generate_h(problem.init_state,problem.goal_state)\n",
        "  '''Simulated annealing search implementation.'''\n",
        "  i,j = problem.init_state[0],problem.init_state[1]\n",
        "  current_state = problem.ZC[i][j]\n",
        "  current_value = problem.heuristic(current_state)\n",
        "  if verbose: visualizer = Visualizer(problem)\n",
        "  for t in count():\n",
        "    if verbose: visualizer.visualize([current_state.name])\n",
        "    T = schedule(t)  # A function that determines the \"temperature\" (acceptability of a bad state) as a function of the step count\n",
        "    if current_value == 0 or T == 0: return current_state.name  # Return if a goal state is found or if the temperature hits 0\n",
        "    next_states = [problem.result((i,j), action) for action in problem.actions((i,j))]  # Generate all possible next states\n",
        "    #print('next states ',next_states)\n",
        "    while True:  # Repeat the following till the current state is updated\n",
        "      next_state = choice(next_states)  # Choose a random next state\n",
        "      #print(\"next state\",next_state)\n",
        "      next_value = problem.heuristic(problem.ZC[next_state[0]][next_state[1]])\n",
        "      #print('next Value',next_value)\n",
        "      delta = current_value - next_value\n",
        "      if delta > 0 or random() < exp(delta / T):  # Accept the randomly chosen state immediately if it is better than the current state or with a probability (exponentially) proportional to the temperature and how bad it is\n",
        "        #print('its better')\n",
        "        (i,j), current_value = next_state, next_value\n",
        "        current_state = problem.ZC[next_state[0]][next_state[1]]\n",
        "        print(f\"Go to : {current_state.name}\")\n",
        "        break"
      ],
      "execution_count": null,
      "outputs": []
    },
    {
      "cell_type": "markdown",
      "source": [
        "### Testing simulated annealing"
      ],
      "metadata": {
        "id": "o23jAMcQYZjE"
      }
    },
    {
      "cell_type": "code",
      "source": [
        "init_state = 'room 207' # in dorms\n",
        "goal_state = \"security office\"  # at Gate A\n",
        "\n",
        "ZC_sim = ZC_problem(init_state,goal_state)\n",
        "%prun simulated_annealing(ZC_sim,lambda t: exp(-t))\n"
      ],
      "metadata": {
        "colab": {
          "base_uri": "https://localhost:8080/"
        },
        "id": "T--wBHwmf_Md",
        "outputId": "dcc84782-39a5-4017-b443-cd20221faa06"
      },
      "execution_count": null,
      "outputs": [
        {
          "output_type": "stream",
          "name": "stdout",
          "text": [
            "Go to : DO_SE\n",
            "Go to : service\n",
            "Go to : road3\n",
            "Go to : Helmy\n",
            "Go to : Academic\n",
            "Go to : Complex\n",
            "Go to : GA_CO\n",
            "Go to : Gate A\n",
            " "
          ]
        }
      ]
    },
    {
      "cell_type": "code",
      "source": [],
      "metadata": {
        "id": "XveATz-nsF1J"
      },
      "execution_count": null,
      "outputs": []
    }
  ]
}